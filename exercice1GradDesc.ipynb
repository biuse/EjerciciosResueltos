{
 "cells": [
  {
   "cell_type": "code",
   "execution_count": 75,
   "metadata": {},
   "outputs": [],
   "source": [
    "import numpy as np\n",
    "import matplotlib.pyplot as pl\n",
    "\n",
    "\n",
    "def gradDesc(grad,x0,gamma=0.1,xtol=0.001,max_iters=10000):\n",
    "   diff = 1 \n",
    "   iters=0\n",
    "   while(diff>xtol) & (iters<max_iters):\n",
    "       \n",
    "       xf = x0- gamma * grad(x0)\n",
    "       diff = abs(xf - x0)\n",
    "       x0= xf # actualizo, paso n+1 es el que se usa para calcular el n+1\n",
    "       iters+=1\n",
    "    \n",
    "   print(\"El minimo se da en\", round(xf,1), \"en\",iters,\"iteraciones\")\n",
    "   "
   ]
  },
  {
   "cell_type": "code",
   "execution_count": 76,
   "metadata": {},
   "outputs": [],
   "source": [
    "def func(x):\n",
    "    return 4*x**2-8*x+5\n",
    "def grad_func(x):\n",
    "    return 8*x-8\n"
   ]
  },
  {
   "cell_type": "code",
   "execution_count": 79,
   "metadata": {},
   "outputs": [
    {
     "name": "stdout",
     "output_type": "stream",
     "text": [
      "('El minimo se da en', 1.0, 'en', 54, 'iteraciones')\n"
     ]
    }
   ],
   "source": [
    "gradDesc(grad_func,0,gamma=0.01,xtol=0.001)\n",
    "#print x,func(np.array(x))\n"
   ]
  },
  {
   "cell_type": "code",
   "execution_count": 49,
   "metadata": {},
   "outputs": [
    {
     "data": {
      "text/plain": [
       "[<matplotlib.lines.Line2D at 0x111fe8ad0>]"
      ]
     },
     "execution_count": 49,
     "metadata": {},
     "output_type": "execute_result"
    },
    {
     "data": {
      "image/png": "[encoded data removed]",
      "text/plain": [
       "<Figure size 432x288 with 1 Axes>"
      ]
     },
     "metadata": {},
     "output_type": "display_data"
    }
   ],
   "source": [
    "x1=np.arange(-10,10)\n",
    "pl.plot(x1,func(x1))\n",
    "#pl.plot(x,func(np.array(x)))"
   ]
  },
  {
   "cell_type": "code",
   "execution_count": 27,
   "metadata": {},
   "outputs": [
    {
     "name": "stdout",
     "output_type": "stream",
     "text": [
      "Optimization terminated successfully.\n",
      "         Current function value: 0.000000\n",
      "         Iterations: 53\n",
      "         Function evaluations: 99\n"
     ]
    },
    {
     "data": {
      "text/plain": [
       "array([5.81392879e-09, 2.40236605e-07])"
      ]
     },
     "execution_count": 27,
     "metadata": {},
     "output_type": "execute_result"
    }
   ],
   "source": [
    "# func()=x^2+x*y+y^2\n",
    "# x,y--> x[0],x[1]\n",
    "def func(v):\n",
    "    return v[0]**2+v[0]*v[1]+v[1]**2\n",
    "import scipy.optimize as opt\n",
    "opt.fmin(func,[1,1],xtol=0.000001)\n",
    "            "
   ]
  },
  {
   "cell_type": "code",
   "execution_count": null,
   "metadata": {},
   "outputs": [],
   "source": []
  }
 ],
 "metadata": {
  "kernelspec": {
   "display_name": "Python 2",
   "language": "python",
   "name": "python2"
  },
  "language_info": {
   "codemirror_mode": {
    "name": "ipython",
    "version": 2
   },
   "file_extension": ".py",
   "mimetype": "text/x-python",
   "name": "python",
   "nbconvert_exporter": "python",
   "pygments_lexer": "ipython2",
   "version": "2.7.15"
  }
 },
 "nbformat": 4,
 "nbformat_minor": 2
}
