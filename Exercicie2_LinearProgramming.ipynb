{
 "cells": [
  {
   "cell_type": "markdown",
   "metadata": {},
   "source": [
    "Constrained Linear programming\n"
   ]
  },
  {
   "cell_type": "code",
   "execution_count": 53,
   "metadata": {},
   "outputs": [
    {
     "data": {
      "text/plain": [
       "(-3, 4)"
      ]
     },
     "execution_count": 53,
     "metadata": {},
     "output_type": "execute_result"
    },
    {
     "data": {
      "image/png": "[encoded data removed]",
      "text/plain": [
       "<Figure size 432x288 with 1 Axes>"
      ]
     },
     "metadata": {},
     "output_type": "display_data"
    }
   ],
   "source": [
    "import matplotlib.pyplot as pl\n",
    "import numpy as np\n",
    "x1=np.arange(-3,4)\n",
    "# definimos espacio de parametros posibles\n",
    "#constraint 1  -2x1+x2< 2\n",
    "c1=(2*x1+2)\n",
    "fig, ax = pl.subplots()\n",
    "pl.plot(x1,c1,'r',label=r'$-2x_1+x_2=2$')\n",
    "#constraint 2  x1 < 3\n",
    "pl.axvline(x=3)\n",
    "#constraint 3  -x1+x2<=3\n",
    "c3=3+x1\n",
    "pl.plot(x1,c3,'g',label=r'$-x_1+x_2=3$')\n",
    "#contraint  4   x1,x2>0\n",
    "pl.axhline(y=0)\n",
    "pl.axvline(x=0)\n",
    "pl.ylim(-1,7)\n",
    "pl.xlabel(r'$x_1$')\n",
    "pl.ylabel(r'$x_2$')\n",
    "x1=np.arange(0,4)\n",
    "c3=3+x1\n",
    "c1=(2*x1+2)\n",
    "y4 = np.minimum(c1, c3)\n",
    "ax.fill_between(x1, y4,np.zeros(len(c1)))\n",
    "pl.legend()\n",
    "x1=np.arange(-1,5)\n",
    "pl.xlim(-3,4)\n",
    "pl.plot(x1,-x1/2.,'k--')\n",
    "pl.plot(x1,(2-x1)/2.,'k--')\n",
    "pl.plot(x1,(15-x1)/2.,'k--')\n",
    "\n",
    "pl.xlim(-3,4)"
   ]
  },
  {
   "cell_type": "markdown",
   "metadata": {},
   "source": [
    "z=-15,x1=3,x2=6"
   ]
  },
  {
   "cell_type": "markdown",
   "metadata": {},
   "source": [
    "Resolvemos con python. \n",
    "Resolvemos con \"trust-constr\" que poner las ecuaciones en un objeto \n",
    "LinearConstraint(A, lb, ub)  donde lb <= A.dot(x) <= ub. A tiene dimension num variables = 2 x numero de inequaciones en este caso 2, el resto vendrá definido en bounds"
   ]
  },
  {
   "cell_type": "code",
   "execution_count": 83,
   "metadata": {},
   "outputs": [],
   "source": [
    "def func(x):\n",
    "    return -x[0]-2*x[1]"
   ]
  },
  {
   "cell_type": "code",
   "execution_count": 88,
   "metadata": {},
   "outputs": [
    {
     "name": "stdout",
     "output_type": "stream",
     "text": [
      "`gtol` termination condition is satisfied.\n",
      "Number of iterations: 12, function evaluations: 8, CG iterations: 7, optimality: 1.03e-09, constraint violation: 0.00e+00, execution time: 0.03 s.\n"
     ]
    }
   ],
   "source": [
    "import scipy.optimize as opt\n",
    "from scipy.optimize import Bounds\n",
    "from scipy.optimize import LinearConstraint\n",
    "bounds=Bounds([0,0],[3,np.inf])\n",
    "lb=[-np.inf,-np.inf]\n",
    "ub=[2,3]\n",
    "A=[[-2,1],[-1,1]]\n",
    "LinCons=LinearConstraint(A,lb,ub)\n",
    "def Jac(x):\n",
    "    return [-1.,-2.]\n",
    "res = opt.minimize(func, [3,6], method='trust-constr', jac=Jac,hess='3-point',constraints=LinCons,options={'verbose': 1}, bounds=bounds)"
   ]
  },
  {
   "cell_type": "code",
   "execution_count": 89,
   "metadata": {},
   "outputs": [
    {
     "name": "stdout",
     "output_type": "stream",
     "text": [
      " barrier_parameter: 0.00016000000000000007\n",
      " barrier_tolerance: 0.00016000000000000007\n",
      "          cg_niter: 7\n",
      "      cg_stop_cond: 4\n",
      "            constr: [array([-3.07545917e-05,  2.99992148e+00]), array([2.99995224, 5.99987372])]\n",
      "       constr_nfev: [0, 0]\n",
      "       constr_nhev: [0, 0]\n",
      "       constr_njev: [0, 0]\n",
      "    constr_penalty: 1.0\n",
      "  constr_violation: 0.0\n",
      "    execution_time: 0.029944181442260742\n",
      "               fun: -14.999699665966606\n",
      "              grad: array([-1., -2.])\n",
      "               jac: [array([[-2,  1],\n",
      "       [-1,  1]]), array([[1., 0.],\n",
      "       [0., 1.]])]\n",
      "   lagrangian_grad: array([7.97552246e-10, 1.03036826e-09])\n",
      "           message: '`gtol` termination condition is satisfied.'\n",
      "            method: 'tr_interior_point'\n",
      "              nfev: 8\n",
      "              nhev: 0\n",
      "             niter: 12\n",
      "              njev: 62\n",
      "        optimality: 1.0303682629568404e-09\n",
      "            status: 1\n",
      "         tr_radius: 6129.996991655158\n",
      "                 v: [array([7.99989110e-05, 1.99994667e+00]), array([ 3.00010667e+00, -2.66672566e-05])]\n",
      "                 x: array([2.99995224, 5.99987372])\n"
     ]
    }
   ],
   "source": [
    "print res\n"
   ]
  },
  {
   "cell_type": "code",
   "execution_count": 90,
   "metadata": {},
   "outputs": [
    {
     "name": "stdout",
     "output_type": "stream",
     "text": [
      "PUNTO función es mínima [3. 6.] valor Función -15.0\n"
     ]
    }
   ],
   "source": [
    "print 'PUNTO función es mínima',np.round(res.x),'valor Función',np.round(res.fun)"
   ]
  },
  {
   "cell_type": "markdown",
   "metadata": {},
   "source": [
    "CASO NO LINEAL: RESOLVER \n",
    "\n",
    "    z=-2x1*x2+x2**2\n",
    "    \n",
    "    con las mismas condiciones"
   ]
  },
  {
   "cell_type": "code",
   "execution_count": null,
   "metadata": {},
   "outputs": [],
   "source": [
    "# si tenemos equacion no-Lineal  con las mismas inequaciones, lo mismo, tenemos que recalcular el gradiente\n",
    "def func(x):\n",
    "    return -2*x[0]*x[1]+x[1]**2\n",
    "def jac(x):\n",
    "    return [-2*x[1],2*x[1]]\n",
    "res = opt.minimize(func, [3,6], method='trust-constr', jac=jac,hess='3-point',constraints=LinCons,options={'verbose': 1}, bounds=bounds)"
   ]
  }
 ],
 "metadata": {
  "kernelspec": {
   "display_name": "Python 2",
   "language": "python",
   "name": "python2"
  },
  "language_info": {
   "codemirror_mode": {
    "name": "ipython",
    "version": 2
   },
   "file_extension": ".py",
   "mimetype": "text/x-python",
   "name": "python",
   "nbconvert_exporter": "python",
   "pygments_lexer": "ipython2",
   "version": "2.7.15"
  }
 },
 "nbformat": 4,
 "nbformat_minor": 2
}
